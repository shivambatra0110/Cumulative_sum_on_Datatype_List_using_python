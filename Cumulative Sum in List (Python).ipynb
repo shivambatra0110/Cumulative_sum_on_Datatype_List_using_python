{
 "cells": [
  {
   "cell_type": "markdown",
   "id": "dda5f30a",
   "metadata": {},
   "source": [
    "## Problem Statement\n",
    "1. input = [1,2,3,4,5] in form of a list\n",
    "2. Print the output where elements are Cumulative Sum\n",
    "3. Output = [1,3,6,10,15] in form of a list"
   ]
  },
  {
   "cell_type": "code",
   "execution_count": 1,
   "id": "8c93302e",
   "metadata": {},
   "outputs": [
    {
     "name": "stdout",
     "output_type": "stream",
     "text": [
      "12345\n",
      "[1, 3, 6, 10, 15]\n"
     ]
    }
   ],
   "source": [
    "#Declaring a varible which will contain Cumulative sum of all digit in the list \n",
    "sum = 0 \n",
    "#Declaring a empty list in which Cumulative sum is stored \"output\"\n",
    "B=[]\n",
    "# To take input from user in list\n",
    "A = list(input())\n",
    "#using for loop for taking every single value seprated and added to variable \"sum\"\n",
    "#taking range from 0 to lenth of our input \"A\"\n",
    "for i in range (0,len(A)):\n",
    "    #adding each digit one at a time to our variable \"sum\"\n",
    "    sum = sum + int(A[i])\n",
    "    #storing each digit sum in a output list \"B\"\n",
    "    B.append(sum)\n",
    "#printing the output\n",
    "print(B)"
   ]
  }
 ],
 "metadata": {
  "kernelspec": {
   "display_name": "Python 3 (ipykernel)",
   "language": "python",
   "name": "python3"
  },
  "language_info": {
   "codemirror_mode": {
    "name": "ipython",
    "version": 3
   },
   "file_extension": ".py",
   "mimetype": "text/x-python",
   "name": "python",
   "nbconvert_exporter": "python",
   "pygments_lexer": "ipython3",
   "version": "3.9.12"
  }
 },
 "nbformat": 4,
 "nbformat_minor": 5
}
